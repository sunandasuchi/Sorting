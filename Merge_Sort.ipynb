{
  "nbformat": 4,
  "nbformat_minor": 0,
  "metadata": {
    "colab": {
      "name": "Merge_Sort.ipynb",
      "provenance": [],
      "authorship_tag": "ABX9TyP1WOE1f8LJzy5HoorO3OyZ",
      "include_colab_link": true
    },
    "kernelspec": {
      "name": "python3",
      "display_name": "Python 3"
    }
  },
  "cells": [
    {
      "cell_type": "markdown",
      "metadata": {
        "id": "view-in-github",
        "colab_type": "text"
      },
      "source": [
        "<a href=\"https://colab.research.google.com/github/sunandasuchi/Sorting/blob/main/Merge_Sort.ipynb\" target=\"_parent\"><img src=\"https://colab.research.google.com/assets/colab-badge.svg\" alt=\"Open In Colab\"/></a>"
      ]
    },
    {
      "cell_type": "markdown",
      "metadata": {
        "id": "5M7XMlScUYeM"
      },
      "source": [
        "### **Merge Sort**"
      ]
    },
    {
      "cell_type": "markdown",
      "metadata": {
        "id": "E6WXTyo8Ude_"
      },
      "source": [
        "#### Time Complexity: **O(n logn)**\r\n",
        "#### In merge, the size of list becomes double , that's why it is **(log(n))** \r\n",
        "#### And in each merge step, it checks all n elements."
      ]
    },
    {
      "cell_type": "code",
      "metadata": {
        "id": "qwZFUiDmDhck"
      },
      "source": [
        "def mergeSort(arr):\r\n",
        "  if len(arr) == 1:\r\n",
        "    print(\"Inside mergeSort if loop\")\r\n",
        "    return arr\r\n",
        "  length = len(arr)\r\n",
        "  mid = length // 2\r\n",
        "  l = arr[:mid]\r\n",
        "  r = arr[mid:]\r\n",
        "  print(\"Inside mergeSort else Loop\")\r\n",
        "  print('Left {}'.format(l))\r\n",
        "  print('Right {}'.format(r))\r\n",
        "\r\n",
        "  return merge(mergeSort(l), mergeSort(r))\r\n",
        "\r\n",
        "def merge(left,right):\r\n",
        "    result = []\r\n",
        "    leftindex = 0\r\n",
        "    rightindex = 0\r\n",
        "    while leftindex < len(left) and rightindex < len(right):\r\n",
        "      if left[leftindex] < right[rightindex]:\r\n",
        "        print(\"Inside merge while --> if Loop\")\r\n",
        "        print(\"left\",left[leftindex])\r\n",
        "        print(\"right\",right[rightindex])\r\n",
        "        result.append(left[leftindex])\r\n",
        "        leftindex += 1\r\n",
        "      else:\r\n",
        "        print(\"Inside merge while --> else Loop\")\r\n",
        "        print(\"left\",left[leftindex])\r\n",
        "        print(\"right\",right[rightindex])\r\n",
        "        result.append(right[rightindex])\r\n",
        "        rightindex += 1\r\n",
        "    print(\"left,right\",left,right)\r\n",
        "    print(\"Result\",result)\r\n",
        "    print( result + left[leftindex:] + right[rightindex:] )\r\n",
        "    return result + left[leftindex:] + right[rightindex:]\r\n",
        "\r\n"
      ],
      "execution_count": 22,
      "outputs": []
    },
    {
      "cell_type": "code",
      "metadata": {
        "colab": {
          "base_uri": "https://localhost:8080/"
        },
        "id": "Eq-VWsR5EtVH",
        "outputId": "07709282-6b90-449b-be20-0c49b0229a06"
      },
      "source": [
        "#arr = [99,44,6,2,1,5,63,87,283,4,0]\r\n",
        "arr = [12,11,13,5,6,7]\r\n",
        "mergeSort(arr)"
      ],
      "execution_count": 23,
      "outputs": [
        {
          "output_type": "stream",
          "text": [
            "Inside mergeSort else Loop\n",
            "Left [12, 11, 13]\n",
            "Right [5, 6, 7]\n",
            "Inside mergeSort else Loop\n",
            "Left [12]\n",
            "Right [11, 13]\n",
            "Inside mergeSort if loop\n",
            "Inside mergeSort else Loop\n",
            "Left [11]\n",
            "Right [13]\n",
            "Inside mergeSort if loop\n",
            "Inside mergeSort if loop\n",
            "Inside merge while --> if Loop\n",
            "left 11\n",
            "right 13\n",
            "left,right [11] [13]\n",
            "Result [11]\n",
            "[11, 13]\n",
            "Inside merge while --> else Loop\n",
            "left 12\n",
            "right 11\n",
            "Inside merge while --> if Loop\n",
            "left 12\n",
            "right 13\n",
            "left,right [12] [11, 13]\n",
            "Result [11, 12]\n",
            "[11, 12, 13]\n",
            "Inside mergeSort else Loop\n",
            "Left [5]\n",
            "Right [6, 7]\n",
            "Inside mergeSort if loop\n",
            "Inside mergeSort else Loop\n",
            "Left [6]\n",
            "Right [7]\n",
            "Inside mergeSort if loop\n",
            "Inside mergeSort if loop\n",
            "Inside merge while --> if Loop\n",
            "left 6\n",
            "right 7\n",
            "left,right [6] [7]\n",
            "Result [6]\n",
            "[6, 7]\n",
            "Inside merge while --> if Loop\n",
            "left 5\n",
            "right 6\n",
            "left,right [5] [6, 7]\n",
            "Result [5]\n",
            "[5, 6, 7]\n",
            "Inside merge while --> else Loop\n",
            "left 11\n",
            "right 5\n",
            "Inside merge while --> else Loop\n",
            "left 11\n",
            "right 6\n",
            "Inside merge while --> else Loop\n",
            "left 11\n",
            "right 7\n",
            "left,right [11, 12, 13] [5, 6, 7]\n",
            "Result [5, 6, 7]\n",
            "[5, 6, 7, 11, 12, 13]\n"
          ],
          "name": "stdout"
        },
        {
          "output_type": "execute_result",
          "data": {
            "text/plain": [
              "[5, 6, 7, 11, 12, 13]"
            ]
          },
          "metadata": {
            "tags": []
          },
          "execution_count": 23
        }
      ]
    },
    {
      "cell_type": "code",
      "metadata": {
        "id": "3kP7apSAEtX9"
      },
      "source": [
        "def merge(left,right):\r\n",
        "  result = []\r\n",
        "  leftindex = 0\r\n",
        "  rightindex = 0\r\n",
        "  while leftindex < len(left) and rightindex < len(right):\r\n",
        "    if left[leftindex] < right[rightindex]:\r\n",
        "      result.append(left[leftindex])\r\n",
        "      leftindex += 1\r\n",
        "    else:\r\n",
        "      result.append(right[rightindex])\r\n",
        "      rightindex += 1\r\n",
        "  print(left,right)\r\n",
        "  print( result + left[leftindex:] + right[rightindex:] )\r\n",
        "  return result + left[leftindex:] + right[rightindex:]\r\n",
        "\r\n",
        "\r\n",
        "x = mergesort(arr)\r\n",
        "print(x)"
      ],
      "execution_count": null,
      "outputs": []
    }
  ]
}