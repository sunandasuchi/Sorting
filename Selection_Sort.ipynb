{
  "nbformat": 4,
  "nbformat_minor": 0,
  "metadata": {
    "colab": {
      "name": "Selection_Sort.ipynb",
      "provenance": [],
      "authorship_tag": "ABX9TyOQSekBIQn5qs6LmPGefO7v",
      "include_colab_link": true
    },
    "kernelspec": {
      "name": "python3",
      "display_name": "Python 3"
    }
  },
  "cells": [
    {
      "cell_type": "markdown",
      "metadata": {
        "id": "view-in-github",
        "colab_type": "text"
      },
      "source": [
        "<a href=\"https://colab.research.google.com/github/sunandasuchi/Sorting/blob/main/Selection_Sort.ipynb\" target=\"_parent\"><img src=\"https://colab.research.google.com/assets/colab-badge.svg\" alt=\"Open In Colab\"/></a>"
      ]
    },
    {
      "cell_type": "markdown",
      "metadata": {
        "id": "gIQVtzMWNObt"
      },
      "source": [
        "### **Selection Sort**"
      ]
    },
    {
      "cell_type": "markdown",
      "metadata": {
        "id": "gaafyVUwNVcF"
      },
      "source": [
        "#### In Selection sort, we find out the lowest item and swap with the 1st index.\r\n",
        "\r\n",
        "#### Then search for the smallest item from the 2nd index and after finding it swaps with the 2nd index.....\r\n",
        "\r\n",
        "\r\n",
        "\r\n",
        "#### Time Complexity: O(n^2), as we need to use 2 nested loops.\r\n",
        "\r\n",
        "#### Space COmplexity: O(1), as we are not adding anything new"
      ]
    },
    {
      "cell_type": "code",
      "metadata": {
        "id": "dBNxuuD3EHE5"
      },
      "source": [
        "def selectionSort(arr):\r\n",
        "  for i in range(0, len(arr)):\r\n",
        "    print(\"i before second loop:\", i)\r\n",
        "    min = arr[i]\r\n",
        "    for j in range(i+1, len(arr)):\r\n",
        "      if arr[j] < min:\r\n",
        "        min = arr[j]\r\n",
        "        ind = j\r\n",
        "    print(\"i :\", i)\r\n",
        "    print(\"min: \", min)\r\n",
        "    arr[i], arr[ind] = arr[ind], arr[i]\r\n",
        "    print(\"arr\", arr)\r\n",
        "    print()\r\n",
        "  return arr\r\n",
        "\r\n"
      ],
      "execution_count": 46,
      "outputs": []
    },
    {
      "cell_type": "code",
      "metadata": {
        "colab": {
          "base_uri": "https://localhost:8080/"
        },
        "id": "jFY8Fc6KEMU7",
        "outputId": "3adb8ca0-cd2e-479c-adba-8ac46d71b961"
      },
      "source": [
        "arr = [99, 44, 6, 2, 1, 5, 63, 87, 283, 4, 0]\r\n",
        "print(\"Sorted Array: \",selectionSort(arr))"
      ],
      "execution_count": 50,
      "outputs": [
        {
          "output_type": "stream",
          "text": [
            "i before second loop: 0\n",
            "i : 0\n",
            "min:  0\n",
            "arr [0, 44, 6, 2, 1, 5, 63, 87, 283, 4, 99]\n",
            "\n",
            "i before second loop: 1\n",
            "i : 1\n",
            "min:  1\n",
            "arr [0, 1, 6, 2, 44, 5, 63, 87, 283, 4, 99]\n",
            "\n",
            "i before second loop: 2\n",
            "i : 2\n",
            "min:  2\n",
            "arr [0, 1, 2, 6, 44, 5, 63, 87, 283, 4, 99]\n",
            "\n",
            "i before second loop: 3\n",
            "i : 3\n",
            "min:  4\n",
            "arr [0, 1, 2, 4, 44, 5, 63, 87, 283, 6, 99]\n",
            "\n",
            "i before second loop: 4\n",
            "i : 4\n",
            "min:  5\n",
            "arr [0, 1, 2, 4, 5, 44, 63, 87, 283, 6, 99]\n",
            "\n",
            "i before second loop: 5\n",
            "i : 5\n",
            "min:  6\n",
            "arr [0, 1, 2, 4, 5, 6, 63, 87, 283, 44, 99]\n",
            "\n",
            "i before second loop: 6\n",
            "i : 6\n",
            "min:  44\n",
            "arr [0, 1, 2, 4, 5, 6, 44, 87, 283, 63, 99]\n",
            "\n",
            "i before second loop: 7\n",
            "i : 7\n",
            "min:  63\n",
            "arr [0, 1, 2, 4, 5, 6, 44, 63, 283, 87, 99]\n",
            "\n",
            "i before second loop: 8\n",
            "i : 8\n",
            "min:  87\n",
            "arr [0, 1, 2, 4, 5, 6, 44, 63, 87, 283, 99]\n",
            "\n",
            "i before second loop: 9\n",
            "i : 9\n",
            "min:  99\n",
            "arr [0, 1, 2, 4, 5, 6, 44, 63, 87, 99, 283]\n",
            "\n",
            "i before second loop: 10\n",
            "i : 10\n",
            "min:  283\n",
            "arr [0, 1, 2, 4, 5, 6, 44, 63, 87, 99, 283]\n",
            "\n",
            "Sorted Array:  [0, 1, 2, 4, 5, 6, 44, 63, 87, 99, 283]\n"
          ],
          "name": "stdout"
        }
      ]
    }
  ]
}