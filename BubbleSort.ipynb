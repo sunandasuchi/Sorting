{
  "nbformat": 4,
  "nbformat_minor": 0,
  "metadata": {
    "colab": {
      "name": "BubbleSort.ipynb",
      "provenance": [],
      "collapsed_sections": []
    },
    "kernelspec": {
      "name": "python3",
      "display_name": "Python 3"
    }
  },
  "cells": [
    {
      "cell_type": "markdown",
      "metadata": {
        "id": "cx1tkNoNBqzh"
      },
      "source": [
        "### **Bubble Sort**"
      ]
    },
    {
      "cell_type": "markdown",
      "metadata": {
        "id": "Rfyr0RBRBwKI"
      },
      "source": [
        "#### It compares each element with the next element. If the next element is smaller, swaps the position.\r\n",
        "#### Time Complexity for Worst cases : O(n^2) \r\n",
        "#### Time Complexity for Best cases : O(n) \r\n",
        "#### Space Complexity: O(1) , as it does not take extra space"
      ]
    },
    {
      "cell_type": "code",
      "metadata": {
        "id": "E5s2y2X7_oxV"
      },
      "source": [
        "def bubbleSort(arr):\r\n",
        "  change = True\r\n",
        "  while change == True:\r\n",
        "    change = False\r\n",
        "    for i in range(0, len(arr)-1):\r\n",
        "      if arr[i] > arr[i+1]:\r\n",
        "        arr[i], arr[i+1] = arr[i+1], arr[i]\r\n",
        "        change = True\r\n",
        "  return arr\r\n",
        "\r\n"
      ],
      "execution_count": 2,
      "outputs": []
    },
    {
      "cell_type": "code",
      "metadata": {
        "colab": {
          "base_uri": "https://localhost:8080/"
        },
        "id": "I7Zxqa69xsQO",
        "outputId": "ec3eedd7-ca8a-4add-ce53-db917d884d54"
      },
      "source": [
        "arr = [6,5,3,1,8,7,2,4]\r\n",
        "bubbleSort(arr)"
      ],
      "execution_count": 3,
      "outputs": [
        {
          "output_type": "execute_result",
          "data": {
            "text/plain": [
              "[1, 2, 3, 4, 5, 6, 7, 8]"
            ]
          },
          "metadata": {
            "tags": []
          },
          "execution_count": 3
        }
      ]
    }
  ]
}