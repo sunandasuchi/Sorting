{
  "nbformat": 4,
  "nbformat_minor": 0,
  "metadata": {
    "colab": {
      "name": "Insertion_Sort.ipynb",
      "provenance": [],
      "authorship_tag": "ABX9TyMeFOmIXqAp8aXjgjOMp+pb",
      "include_colab_link": true
    },
    "kernelspec": {
      "name": "python3",
      "display_name": "Python 3"
    }
  },
  "cells": [
    {
      "cell_type": "markdown",
      "metadata": {
        "id": "view-in-github",
        "colab_type": "text"
      },
      "source": [
        "<a href=\"https://colab.research.google.com/github/sunandasuchi/Sorting/blob/main/Insertion_Sort.ipynb\" target=\"_parent\"><img src=\"https://colab.research.google.com/assets/colab-badge.svg\" alt=\"Open In Colab\"/></a>"
      ]
    },
    {
      "cell_type": "markdown",
      "metadata": {
        "id": "bC9z4r9fch3Q"
      },
      "source": [
        "### **Insertion Sort**"
      ]
    },
    {
      "cell_type": "markdown",
      "metadata": {
        "id": "WVjexHzFco0c"
      },
      "source": [
        "#### Insertion is useful for:\r\n",
        "#### **1. Small dataset**\r\n",
        "#### **or** \r\n",
        "#### **2. When the List is Almost Sorted**\r\n",
        "#### Time Complexity: O(n^2) , for Worst Case\r\n",
        "#### Time Complexity: O(n) , for Best Case\r\n",
        "#### Space Complexity: O(1)"
      ]
    },
    {
      "cell_type": "code",
      "metadata": {
        "id": "AMuLfnVUQQni"
      },
      "source": [
        "def insertionSort(arr):\r\n",
        "  for i in range(1, len(arr)):\r\n",
        "    \"\"\"if arr[i] > arr[i+1]:\r\n",
        "      arr[i], arr[i+1] = arr[i+1], arr[i]\r\n",
        "      print(\"Inside i Loop\")\r\n",
        "      print(arr)\"\"\"\r\n",
        "    for j in range(i,0,-1):\r\n",
        "      print(\"arr[j]\", arr[j])\r\n",
        "      if arr[j] < arr[j-1]:\r\n",
        "        print(\"Swaping\")\r\n",
        "        arr[j], arr[j-1] = arr[j-1], arr[j]\r\n",
        "        print(arr)\r\n",
        "\r\n",
        "  return arr\r\n",
        "\r\n",
        "    "
      ],
      "execution_count": 35,
      "outputs": []
    },
    {
      "cell_type": "code",
      "metadata": {
        "colab": {
          "base_uri": "https://localhost:8080/"
        },
        "id": "br90oGAlULGe",
        "outputId": "56b78797-e365-422e-b2d4-40db6b56c7cc"
      },
      "source": [
        "arr = [99, 44, 6, 2, 1, 5, 63, 87, 283, 4, 0]\r\n",
        "print(\"Sorted Array: \", insertionSort(arr))"
      ],
      "execution_count": 36,
      "outputs": [
        {
          "output_type": "stream",
          "text": [
            "arr[j] 44\n",
            "Swaping\n",
            "[44, 99, 6, 2, 1, 5, 63, 87, 283, 4, 0]\n",
            "arr[j] 6\n",
            "Swaping\n",
            "[44, 6, 99, 2, 1, 5, 63, 87, 283, 4, 0]\n",
            "arr[j] 6\n",
            "Swaping\n",
            "[6, 44, 99, 2, 1, 5, 63, 87, 283, 4, 0]\n",
            "arr[j] 2\n",
            "Swaping\n",
            "[6, 44, 2, 99, 1, 5, 63, 87, 283, 4, 0]\n",
            "arr[j] 2\n",
            "Swaping\n",
            "[6, 2, 44, 99, 1, 5, 63, 87, 283, 4, 0]\n",
            "arr[j] 2\n",
            "Swaping\n",
            "[2, 6, 44, 99, 1, 5, 63, 87, 283, 4, 0]\n",
            "arr[j] 1\n",
            "Swaping\n",
            "[2, 6, 44, 1, 99, 5, 63, 87, 283, 4, 0]\n",
            "arr[j] 1\n",
            "Swaping\n",
            "[2, 6, 1, 44, 99, 5, 63, 87, 283, 4, 0]\n",
            "arr[j] 1\n",
            "Swaping\n",
            "[2, 1, 6, 44, 99, 5, 63, 87, 283, 4, 0]\n",
            "arr[j] 1\n",
            "Swaping\n",
            "[1, 2, 6, 44, 99, 5, 63, 87, 283, 4, 0]\n",
            "arr[j] 5\n",
            "Swaping\n",
            "[1, 2, 6, 44, 5, 99, 63, 87, 283, 4, 0]\n",
            "arr[j] 5\n",
            "Swaping\n",
            "[1, 2, 6, 5, 44, 99, 63, 87, 283, 4, 0]\n",
            "arr[j] 5\n",
            "Swaping\n",
            "[1, 2, 5, 6, 44, 99, 63, 87, 283, 4, 0]\n",
            "arr[j] 5\n",
            "arr[j] 2\n",
            "arr[j] 63\n",
            "Swaping\n",
            "[1, 2, 5, 6, 44, 63, 99, 87, 283, 4, 0]\n",
            "arr[j] 63\n",
            "arr[j] 44\n",
            "arr[j] 6\n",
            "arr[j] 5\n",
            "arr[j] 2\n",
            "arr[j] 87\n",
            "Swaping\n",
            "[1, 2, 5, 6, 44, 63, 87, 99, 283, 4, 0]\n",
            "arr[j] 87\n",
            "arr[j] 63\n",
            "arr[j] 44\n",
            "arr[j] 6\n",
            "arr[j] 5\n",
            "arr[j] 2\n",
            "arr[j] 283\n",
            "arr[j] 99\n",
            "arr[j] 87\n",
            "arr[j] 63\n",
            "arr[j] 44\n",
            "arr[j] 6\n",
            "arr[j] 5\n",
            "arr[j] 2\n",
            "arr[j] 4\n",
            "Swaping\n",
            "[1, 2, 5, 6, 44, 63, 87, 99, 4, 283, 0]\n",
            "arr[j] 4\n",
            "Swaping\n",
            "[1, 2, 5, 6, 44, 63, 87, 4, 99, 283, 0]\n",
            "arr[j] 4\n",
            "Swaping\n",
            "[1, 2, 5, 6, 44, 63, 4, 87, 99, 283, 0]\n",
            "arr[j] 4\n",
            "Swaping\n",
            "[1, 2, 5, 6, 44, 4, 63, 87, 99, 283, 0]\n",
            "arr[j] 4\n",
            "Swaping\n",
            "[1, 2, 5, 6, 4, 44, 63, 87, 99, 283, 0]\n",
            "arr[j] 4\n",
            "Swaping\n",
            "[1, 2, 5, 4, 6, 44, 63, 87, 99, 283, 0]\n",
            "arr[j] 4\n",
            "Swaping\n",
            "[1, 2, 4, 5, 6, 44, 63, 87, 99, 283, 0]\n",
            "arr[j] 4\n",
            "arr[j] 2\n",
            "arr[j] 0\n",
            "Swaping\n",
            "[1, 2, 4, 5, 6, 44, 63, 87, 99, 0, 283]\n",
            "arr[j] 0\n",
            "Swaping\n",
            "[1, 2, 4, 5, 6, 44, 63, 87, 0, 99, 283]\n",
            "arr[j] 0\n",
            "Swaping\n",
            "[1, 2, 4, 5, 6, 44, 63, 0, 87, 99, 283]\n",
            "arr[j] 0\n",
            "Swaping\n",
            "[1, 2, 4, 5, 6, 44, 0, 63, 87, 99, 283]\n",
            "arr[j] 0\n",
            "Swaping\n",
            "[1, 2, 4, 5, 6, 0, 44, 63, 87, 99, 283]\n",
            "arr[j] 0\n",
            "Swaping\n",
            "[1, 2, 4, 5, 0, 6, 44, 63, 87, 99, 283]\n",
            "arr[j] 0\n",
            "Swaping\n",
            "[1, 2, 4, 0, 5, 6, 44, 63, 87, 99, 283]\n",
            "arr[j] 0\n",
            "Swaping\n",
            "[1, 2, 0, 4, 5, 6, 44, 63, 87, 99, 283]\n",
            "arr[j] 0\n",
            "Swaping\n",
            "[1, 0, 2, 4, 5, 6, 44, 63, 87, 99, 283]\n",
            "arr[j] 0\n",
            "Swaping\n",
            "[0, 1, 2, 4, 5, 6, 44, 63, 87, 99, 283]\n",
            "Sorted Array:  [0, 1, 2, 4, 5, 6, 44, 63, 87, 99, 283]\n"
          ],
          "name": "stdout"
        }
      ]
    },
    {
      "cell_type": "code",
      "metadata": {
        "id": "cOaRDJXbaHee"
      },
      "source": [
        ""
      ],
      "execution_count": null,
      "outputs": []
    }
  ]
}