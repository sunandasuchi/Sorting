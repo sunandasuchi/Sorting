{
  "nbformat": 4,
  "nbformat_minor": 0,
  "metadata": {
    "colab": {
      "name": "HeapSort_Implementation.ipynb",
      "provenance": [],
      "authorship_tag": "ABX9TyN3e02lOSBNf9cabyi8BFCR",
      "include_colab_link": true
    },
    "kernelspec": {
      "name": "python3",
      "display_name": "Python 3"
    }
  },
  "cells": [
    {
      "cell_type": "markdown",
      "metadata": {
        "id": "view-in-github",
        "colab_type": "text"
      },
      "source": [
        "<a href=\"https://colab.research.google.com/github/sunandasuchi/Sorting/blob/main/HeapSort_Implementation.ipynb\" target=\"_parent\"><img src=\"https://colab.research.google.com/assets/colab-badge.svg\" alt=\"Open In Colab\"/></a>"
      ]
    },
    {
      "cell_type": "markdown",
      "metadata": {
        "id": "TJ3r2oc4oE7r"
      },
      "source": [
        "## **Heap Sort**"
      ]
    },
    {
      "cell_type": "markdown",
      "metadata": {
        "id": "7HIMdStfDtNf"
      },
      "source": [
        "### Time Complexity: **O(n logn)**"
      ]
    },
    {
      "cell_type": "code",
      "metadata": {
        "id": "hF8EWMOdnal1"
      },
      "source": [
        "def heapSort(arr):\r\n",
        "  n = len(arr)\r\n",
        " \r\n",
        "  # building MaxHeap\r\n",
        "  for i in range(n // 2 -1 , -1,-1):\r\n",
        "    print(\"i: \",i)\r\n",
        "    print(\"Inside 1st For Loop heapSort array : \", arr)\r\n",
        "    heapify(arr,n,i)\r\n",
        "  print(\"\\n\\n\\n Before entering 2nd for loop, arr: \", arr)\r\n",
        "  print(\"\\n\")\r\n",
        "  \r\n",
        "  \r\n",
        "  for j in range(n-1, 0, -1):\r\n",
        "    print(\"\\nj: \", j)\r\n",
        "    print(\"Inside 2nd For Loop heapSort array : \", arr)\r\n",
        "    arr[j], arr[0] = arr[0], arr[j]\r\n",
        "    print(\"Inside 2nd For Loop heapSort array after swap : \", arr)\r\n",
        "\r\n",
        "    heapify(arr, j, 0)\r\n",
        "    "
      ],
      "execution_count": 31,
      "outputs": []
    },
    {
      "cell_type": "code",
      "metadata": {
        "id": "DzTtXMtNoMEm"
      },
      "source": [
        "def heapify(arr, n, i):\r\n",
        "  lar = i\r\n",
        "  l = 2*i+1\r\n",
        "  r = 2*i+2\r\n",
        "  print(\"\\n\")\r\n",
        "  print(\"\\nn: \", n)\r\n",
        "  print(\"Large: \", lar)\r\n",
        "  print(\"Left: \", l)\r\n",
        "  print(\"Right : \", r)\r\n",
        "  if l<n and arr[lar] < arr[l]:\r\n",
        "    lar = l\r\n",
        "  if r<n and arr[lar] < arr[r]:\r\n",
        "    lar = r\r\n",
        "  if lar != i:\r\n",
        "    arr[i], arr[lar] = arr[lar], arr[i]\r\n",
        "    \r\n",
        "    print(\"\\nInside Heapify, after swaping with the largest arr: \", arr)\r\n",
        "    print(\"lar:\", lar)\r\n",
        "    heapify(arr,n,lar)"
      ],
      "execution_count": 32,
      "outputs": []
    },
    {
      "cell_type": "code",
      "metadata": {
        "colab": {
          "base_uri": "https://localhost:8080/"
        },
        "id": "k6JNvHj7oMPr",
        "outputId": "3aba93ce-4f4e-4c59-f066-006c444016b4"
      },
      "source": [
        "arr = [12, 11, 13, 5, 6, 7]\r\n",
        "heapSort(arr)"
      ],
      "execution_count": 33,
      "outputs": [
        {
          "output_type": "stream",
          "text": [
            "i:  2\n",
            "Inside 1st For Loop heapSort array :  [12, 11, 13, 5, 6, 7]\n",
            "\n",
            "\n",
            "\n",
            "n:  6\n",
            "Large:  2\n",
            "Left:  5\n",
            "Right :  6\n",
            "i:  1\n",
            "Inside 1st For Loop heapSort array :  [12, 11, 13, 5, 6, 7]\n",
            "\n",
            "\n",
            "\n",
            "n:  6\n",
            "Large:  1\n",
            "Left:  3\n",
            "Right :  4\n",
            "i:  0\n",
            "Inside 1st For Loop heapSort array :  [12, 11, 13, 5, 6, 7]\n",
            "\n",
            "\n",
            "\n",
            "n:  6\n",
            "Large:  0\n",
            "Left:  1\n",
            "Right :  2\n",
            "\n",
            "Inside Heapify, after swaping with the largest arr:  [13, 11, 12, 5, 6, 7]\n",
            "lar: 2\n",
            "\n",
            "\n",
            "\n",
            "n:  6\n",
            "Large:  2\n",
            "Left:  5\n",
            "Right :  6\n",
            "\n",
            "\n",
            "\n",
            " Before entering 2nd for loop, arr:  [13, 11, 12, 5, 6, 7]\n",
            "\n",
            "\n",
            "\n",
            "j:  5\n",
            "Inside 2nd For Loop heapSort array :  [13, 11, 12, 5, 6, 7]\n",
            "Inside 2nd For Loop heapSort array after swap :  [7, 11, 12, 5, 6, 13]\n",
            "\n",
            "\n",
            "\n",
            "n:  5\n",
            "Large:  0\n",
            "Left:  1\n",
            "Right :  2\n",
            "\n",
            "Inside Heapify, after swaping with the largest arr:  [12, 11, 7, 5, 6, 13]\n",
            "lar: 2\n",
            "\n",
            "\n",
            "\n",
            "n:  5\n",
            "Large:  2\n",
            "Left:  5\n",
            "Right :  6\n",
            "\n",
            "j:  4\n",
            "Inside 2nd For Loop heapSort array :  [12, 11, 7, 5, 6, 13]\n",
            "Inside 2nd For Loop heapSort array after swap :  [6, 11, 7, 5, 12, 13]\n",
            "\n",
            "\n",
            "\n",
            "n:  4\n",
            "Large:  0\n",
            "Left:  1\n",
            "Right :  2\n",
            "\n",
            "Inside Heapify, after swaping with the largest arr:  [11, 6, 7, 5, 12, 13]\n",
            "lar: 1\n",
            "\n",
            "\n",
            "\n",
            "n:  4\n",
            "Large:  1\n",
            "Left:  3\n",
            "Right :  4\n",
            "\n",
            "j:  3\n",
            "Inside 2nd For Loop heapSort array :  [11, 6, 7, 5, 12, 13]\n",
            "Inside 2nd For Loop heapSort array after swap :  [5, 6, 7, 11, 12, 13]\n",
            "\n",
            "\n",
            "\n",
            "n:  3\n",
            "Large:  0\n",
            "Left:  1\n",
            "Right :  2\n",
            "\n",
            "Inside Heapify, after swaping with the largest arr:  [7, 6, 5, 11, 12, 13]\n",
            "lar: 2\n",
            "\n",
            "\n",
            "\n",
            "n:  3\n",
            "Large:  2\n",
            "Left:  5\n",
            "Right :  6\n",
            "\n",
            "j:  2\n",
            "Inside 2nd For Loop heapSort array :  [7, 6, 5, 11, 12, 13]\n",
            "Inside 2nd For Loop heapSort array after swap :  [5, 6, 7, 11, 12, 13]\n",
            "\n",
            "\n",
            "\n",
            "n:  2\n",
            "Large:  0\n",
            "Left:  1\n",
            "Right :  2\n",
            "\n",
            "Inside Heapify, after swaping with the largest arr:  [6, 5, 7, 11, 12, 13]\n",
            "lar: 1\n",
            "\n",
            "\n",
            "\n",
            "n:  2\n",
            "Large:  1\n",
            "Left:  3\n",
            "Right :  4\n",
            "\n",
            "j:  1\n",
            "Inside 2nd For Loop heapSort array :  [6, 5, 7, 11, 12, 13]\n",
            "Inside 2nd For Loop heapSort array after swap :  [5, 6, 7, 11, 12, 13]\n",
            "\n",
            "\n",
            "\n",
            "n:  1\n",
            "Large:  0\n",
            "Left:  1\n",
            "Right :  2\n"
          ],
          "name": "stdout"
        }
      ]
    }
  ]
}